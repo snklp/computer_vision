{
 "cells": [
  {
   "cell_type": "code",
   "execution_count": 50,
   "metadata": {
    "execution": {
     "iopub.execute_input": "2021-06-21T11:02:56.473079Z",
     "iopub.status.busy": "2021-06-21T11:02:56.472403Z",
     "iopub.status.idle": "2021-06-21T11:02:56.479381Z",
     "shell.execute_reply": "2021-06-21T11:02:56.477913Z",
     "shell.execute_reply.started": "2021-06-21T11:02:56.473023Z"
    }
   },
   "outputs": [],
   "source": [
    "import os\n",
    "from tqdm import tqdm \n",
    "import cv2\n",
    "import numpy as np\n",
    "\n",
    "import torch\n",
    "import torch.nn as nn\n",
    "import torch.nn.functional as F\n",
    "import torch.optim as optim"
   ]
  },
  {
   "cell_type": "code",
   "execution_count": 51,
   "metadata": {
    "execution": {
     "iopub.execute_input": "2021-06-21T11:02:56.482793Z",
     "iopub.status.busy": "2021-06-21T11:02:56.482174Z",
     "iopub.status.idle": "2021-06-21T11:02:56.499132Z",
     "shell.execute_reply": "2021-06-21T11:02:56.497695Z",
     "shell.execute_reply.started": "2021-06-21T11:02:56.482720Z"
    }
   },
   "outputs": [],
   "source": [
    "path = '../input/dogs-vs-cats/train/train'"
   ]
  },
  {
   "cell_type": "code",
   "execution_count": 52,
   "metadata": {
    "execution": {
     "iopub.execute_input": "2021-06-21T11:02:56.501072Z",
     "iopub.status.busy": "2021-06-21T11:02:56.500527Z",
     "iopub.status.idle": "2021-06-21T11:04:04.059347Z",
     "shell.execute_reply": "2021-06-21T11:04:04.058276Z",
     "shell.execute_reply.started": "2021-06-21T11:02:56.501032Z"
    }
   },
   "outputs": [
    {
     "name": "stderr",
     "output_type": "stream",
     "text": [
      "100%|██████████| 25000/25000 [01:06<00:00, 374.53it/s]\n",
      "/opt/conda/lib/python3.7/site-packages/numpy/core/_asarray.py:136: VisibleDeprecationWarning: Creating an ndarray from ragged nested sequences (which is a list-or-tuple of lists-or-tuples-or ndarrays with different lengths or shapes) is deprecated. If you meant to do this, you must specify 'dtype=object' when creating the ndarray\n",
      "  return array(a, dtype, copy=False, order=order, subok=True)\n"
     ]
    }
   ],
   "source": [
    "train = []\n",
    "\n",
    "try:\n",
    "    for i in tqdm(os.listdir(path)):\n",
    "        img_path = os.path.join(path,i)\n",
    "        img = cv2.imread(img_path, cv2.IMREAD_GRAYSCALE)\n",
    "        img = cv2.resize(img, (50,50))\n",
    "        if 'cat' in i:train.append([np.array(img), np.eye(2)[0]])\n",
    "        elif 'dog' in i:train.append([np.array(img), np.eye(2)[1]])\n",
    "            \n",
    "except Exception as e:pass\n",
    "        \n",
    "np.random.shuffle(train)\n",
    "np.save('train.npy',train)"
   ]
  },
  {
   "cell_type": "code",
   "execution_count": 53,
   "metadata": {
    "execution": {
     "iopub.execute_input": "2021-06-21T11:04:04.062419Z",
     "iopub.status.busy": "2021-06-21T11:04:04.061860Z",
     "iopub.status.idle": "2021-06-21T11:04:04.078408Z",
     "shell.execute_reply": "2021-06-21T11:04:04.077259Z",
     "shell.execute_reply.started": "2021-06-21T11:04:04.062382Z"
    }
   },
   "outputs": [],
   "source": [
    "class NN(nn.Module):\n",
    "    def __init__(self):\n",
    "        super().__init__()\n",
    "        self.conv1 = nn.Conv2d(1, 32, 5)     ## (#ip_channels, #op_channels, kernel_size)\n",
    "        self.pool1 = nn.MaxPool2d((2,2))      # ((50-5) + 1)/2 = 23\n",
    "        self.conv2 = nn.Conv2d(32, 64, 5)     # (23-5) + 1 = 19\n",
    "        self.pool2 = nn.MaxPool2d((2,2))      # 19//2 = 9\n",
    "        self.conv3 = nn.Conv2d(64, 128, 5)    # (9-5) + 1 = 5\n",
    "        self.pool3 = nn.MaxPool2d((2,2))      # 5//2 = 2\n",
    "        \n",
    "        self.fc1 = nn.Linear(2*2*128, 256)\n",
    "        self.fc2 = nn.Linear(256, 2)\n",
    "        \n",
    "    def forward(self, x):\n",
    "        x = F.relu(self.conv1(x))\n",
    "        x = self.pool1(x)\n",
    "        x = F.relu(self.conv2(x))\n",
    "        x = self.pool2(x)\n",
    "        x = F.relu(self.conv3(x))\n",
    "        x = self.pool3(x)\n",
    "        x = x.view(-1, 2*2*128)\n",
    "        x = F.relu(self.fc1(x))\n",
    "        x = self.fc2(x)\n",
    "        \n",
    "        return F.softmax(x, dim=1)\n",
    "        \n",
    "model = NN()"
   ]
  },
  {
   "cell_type": "code",
   "execution_count": 54,
   "metadata": {
    "execution": {
     "iopub.execute_input": "2021-06-21T11:04:04.080687Z",
     "iopub.status.busy": "2021-06-21T11:04:04.080143Z",
     "iopub.status.idle": "2021-06-21T11:04:04.091161Z",
     "shell.execute_reply": "2021-06-21T11:04:04.089873Z",
     "shell.execute_reply.started": "2021-06-21T11:04:04.080652Z"
    }
   },
   "outputs": [],
   "source": [
    "optimizer = optim.Adam(model.parameters(), lr=0.001)\n",
    "loss_function = nn.MSELoss()"
   ]
  },
  {
   "cell_type": "code",
   "execution_count": 55,
   "metadata": {
    "execution": {
     "iopub.execute_input": "2021-06-21T11:04:04.093760Z",
     "iopub.status.busy": "2021-06-21T11:04:04.093257Z",
     "iopub.status.idle": "2021-06-21T11:04:22.358554Z",
     "shell.execute_reply": "2021-06-21T11:04:22.357513Z",
     "shell.execute_reply.started": "2021-06-21T11:04:04.093694Z"
    }
   },
   "outputs": [],
   "source": [
    "X = torch.Tensor([i[0] for i in train]).view(-1, 50, 50)\n",
    "X = X/255.0\n",
    "y = torch.Tensor([i[1] for i in train])"
   ]
  },
  {
   "cell_type": "code",
   "execution_count": 65,
   "metadata": {
    "execution": {
     "iopub.execute_input": "2021-06-21T11:09:30.658167Z",
     "iopub.status.busy": "2021-06-21T11:09:30.657667Z",
     "iopub.status.idle": "2021-06-21T11:09:30.665613Z",
     "shell.execute_reply": "2021-06-21T11:09:30.664468Z",
     "shell.execute_reply.started": "2021-06-21T11:09:30.658130Z"
    }
   },
   "outputs": [
    {
     "data": {
      "text/plain": [
       "torch.Size([25000, 50, 50])"
      ]
     },
     "execution_count": 65,
     "metadata": {},
     "output_type": "execute_result"
    }
   ],
   "source": [
    "X.shape"
   ]
  },
  {
   "cell_type": "code",
   "execution_count": 56,
   "metadata": {
    "execution": {
     "iopub.execute_input": "2021-06-21T11:04:22.360679Z",
     "iopub.status.busy": "2021-06-21T11:04:22.360224Z",
     "iopub.status.idle": "2021-06-21T11:04:22.367117Z",
     "shell.execute_reply": "2021-06-21T11:04:22.365993Z",
     "shell.execute_reply.started": "2021-06-21T11:04:22.360634Z"
    }
   },
   "outputs": [
    {
     "data": {
      "text/plain": [
       "2500"
      ]
     },
     "execution_count": 56,
     "metadata": {},
     "output_type": "execute_result"
    }
   ],
   "source": [
    "test_size = int(len(X)*0.1)\n",
    "test_size"
   ]
  },
  {
   "cell_type": "code",
   "execution_count": 81,
   "metadata": {
    "execution": {
     "iopub.execute_input": "2021-06-21T11:14:41.528289Z",
     "iopub.status.busy": "2021-06-21T11:14:41.527841Z",
     "iopub.status.idle": "2021-06-21T11:14:41.535226Z",
     "shell.execute_reply": "2021-06-21T11:14:41.533380Z",
     "shell.execute_reply.started": "2021-06-21T11:14:41.528250Z"
    }
   },
   "outputs": [],
   "source": [
    "X_train = X[:-test_size]\n",
    "y_train = y[:-test_size]\n",
    "X_test = X[-test_size:]\n",
    "y_test = y[-test_size:]"
   ]
  },
  {
   "cell_type": "code",
   "execution_count": 82,
   "metadata": {
    "execution": {
     "iopub.execute_input": "2021-06-21T11:14:43.517890Z",
     "iopub.status.busy": "2021-06-21T11:14:43.517168Z",
     "iopub.status.idle": "2021-06-21T11:14:43.523284Z",
     "shell.execute_reply": "2021-06-21T11:14:43.522352Z",
     "shell.execute_reply.started": "2021-06-21T11:14:43.517849Z"
    }
   },
   "outputs": [
    {
     "data": {
      "text/plain": [
       "22500"
      ]
     },
     "execution_count": 82,
     "metadata": {},
     "output_type": "execute_result"
    }
   ],
   "source": [
    "len(y_train)"
   ]
  },
  {
   "cell_type": "code",
   "execution_count": 83,
   "metadata": {
    "execution": {
     "iopub.execute_input": "2021-06-21T11:14:43.963356Z",
     "iopub.status.busy": "2021-06-21T11:14:43.962734Z",
     "iopub.status.idle": "2021-06-21T11:15:43.084378Z",
     "shell.execute_reply": "2021-06-21T11:15:43.083099Z",
     "shell.execute_reply.started": "2021-06-21T11:14:43.963304Z"
    }
   },
   "outputs": [
    {
     "name": "stderr",
     "output_type": "stream",
     "text": [
      "100%|██████████| 225/225 [00:59<00:00,  3.81it/s]"
     ]
    },
    {
     "name": "stdout",
     "output_type": "stream",
     "text": [
      "tensor(0.2103, grad_fn=<MseLossBackward>)\n"
     ]
    },
    {
     "name": "stderr",
     "output_type": "stream",
     "text": [
      "\n"
     ]
    }
   ],
   "source": [
    "batch_size = 100\n",
    "num_epochs = 1\n",
    "\n",
    "for epoch in range(num_epochs):\n",
    "    for i in tqdm(range(0, len(X_train), batch_size)):\n",
    "        batch_X = X_train[i:batch_size+i].view(-1,1,50,50)\n",
    "        batch_y = y_train[i:batch_size+i]\n",
    "        optimizer.zero_grad()\n",
    "        outputs = model(batch_X)\n",
    "        loss = loss_function(outputs, batch_y)\n",
    "        loss.backward()\n",
    "        optimizer.step()\n",
    "    \n",
    "print(loss)"
   ]
  },
  {
   "cell_type": "code",
   "execution_count": 84,
   "metadata": {
    "execution": {
     "iopub.execute_input": "2021-06-21T11:15:43.087727Z",
     "iopub.status.busy": "2021-06-21T11:15:43.086915Z",
     "iopub.status.idle": "2021-06-21T11:15:43.097301Z",
     "shell.execute_reply": "2021-06-21T11:15:43.095464Z",
     "shell.execute_reply.started": "2021-06-21T11:15:43.087669Z"
    }
   },
   "outputs": [
    {
     "data": {
      "text/plain": [
       "tensor(0)"
      ]
     },
     "execution_count": 84,
     "metadata": {},
     "output_type": "execute_result"
    }
   ],
   "source": [
    "torch.argmax(torch.Tensor([34,2,3]))\n",
    "#returns index w/ max value"
   ]
  },
  {
   "cell_type": "code",
   "execution_count": 85,
   "metadata": {
    "execution": {
     "iopub.execute_input": "2021-06-21T11:15:43.099992Z",
     "iopub.status.busy": "2021-06-21T11:15:43.099466Z",
     "iopub.status.idle": "2021-06-21T11:15:43.120482Z",
     "shell.execute_reply": "2021-06-21T11:15:43.118769Z",
     "shell.execute_reply.started": "2021-06-21T11:15:43.099943Z"
    }
   },
   "outputs": [
    {
     "data": {
      "text/plain": [
       "torch.Size([22500, 50, 50])"
      ]
     },
     "execution_count": 85,
     "metadata": {},
     "output_type": "execute_result"
    }
   ],
   "source": [
    "X_train.shape"
   ]
  },
  {
   "cell_type": "code",
   "execution_count": 86,
   "metadata": {
    "execution": {
     "iopub.execute_input": "2021-06-21T11:15:43.123530Z",
     "iopub.status.busy": "2021-06-21T11:15:43.122719Z",
     "iopub.status.idle": "2021-06-21T11:15:43.141684Z",
     "shell.execute_reply": "2021-06-21T11:15:43.140514Z",
     "shell.execute_reply.started": "2021-06-21T11:15:43.123392Z"
    }
   },
   "outputs": [
    {
     "data": {
      "text/plain": [
       "torch.Size([2500, 50, 50])"
      ]
     },
     "execution_count": 86,
     "metadata": {},
     "output_type": "execute_result"
    }
   ],
   "source": [
    "X_test.shape"
   ]
  },
  {
   "cell_type": "code",
   "execution_count": 87,
   "metadata": {
    "execution": {
     "iopub.execute_input": "2021-06-21T11:15:43.144565Z",
     "iopub.status.busy": "2021-06-21T11:15:43.143867Z",
     "iopub.status.idle": "2021-06-21T11:15:48.782970Z",
     "shell.execute_reply": "2021-06-21T11:15:48.781702Z",
     "shell.execute_reply.started": "2021-06-21T11:15:43.144520Z"
    }
   },
   "outputs": [
    {
     "name": "stderr",
     "output_type": "stream",
     "text": [
      "100%|██████████| 2500/2500 [00:05<00:00, 445.16it/s]"
     ]
    },
    {
     "name": "stdout",
     "output_type": "stream",
     "text": [
      "Accuracy 0.669\n"
     ]
    },
    {
     "name": "stderr",
     "output_type": "stream",
     "text": [
      "\n"
     ]
    }
   ],
   "source": [
    "correct = 0\n",
    "total = 0\n",
    "\n",
    "with torch.no_grad():\n",
    "    for i in tqdm(range(len(X_test))):\n",
    "        original_idx = torch.argmax(y_test[i])\n",
    "        output = model(X_test[i].view(-1,1,50,50))[0]\n",
    "        predicted_idx = torch.argmax(output)\n",
    "        if original_idx == predicted_idx:correct += 1\n",
    "        total += 1\n",
    "        \n",
    "print('Accuracy', round(correct/total, 3))"
   ]
  },
  {
   "cell_type": "code",
   "execution_count": null,
   "metadata": {},
   "outputs": [],
   "source": []
  }
 ],
 "metadata": {
  "kernelspec": {
   "display_name": "Python 3",
   "language": "python",
   "name": "python3"
  },
  "language_info": {
   "codemirror_mode": {
    "name": "ipython",
    "version": 3
   },
   "file_extension": ".py",
   "mimetype": "text/x-python",
   "name": "python",
   "nbconvert_exporter": "python",
   "pygments_lexer": "ipython3",
   "version": "3.8.3"
  }
 },
 "nbformat": 4,
 "nbformat_minor": 4
}
