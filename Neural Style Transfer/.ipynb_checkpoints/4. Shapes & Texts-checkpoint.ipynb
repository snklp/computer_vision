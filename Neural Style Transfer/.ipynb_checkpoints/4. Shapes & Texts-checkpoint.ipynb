{
 "cells": [
  {
   "cell_type": "code",
   "execution_count": 1,
   "id": "e4e15f44",
   "metadata": {},
   "outputs": [],
   "source": [
    "import cv2\n",
    "import numpy as np"
   ]
  },
  {
   "cell_type": "code",
   "execution_count": 2,
   "id": "68c0747e",
   "metadata": {},
   "outputs": [
    {
     "data": {
      "text/plain": [
       "-1"
      ]
     },
     "execution_count": 2,
     "metadata": {},
     "output_type": "execute_result"
    }
   ],
   "source": [
    "img = np.zeros((512, 300, 3), np.uint8)  # (height, width, #channels)\n",
    "cv2.imshow('Image', img)\n",
    "cv2.waitKey()"
   ]
  },
  {
   "cell_type": "code",
   "execution_count": 3,
   "id": "a20ac94c",
   "metadata": {},
   "outputs": [
    {
     "data": {
      "text/plain": [
       "(512, 300, 3)"
      ]
     },
     "execution_count": 3,
     "metadata": {},
     "output_type": "execute_result"
    }
   ],
   "source": [
    "img.shape"
   ]
  },
  {
   "cell_type": "code",
   "execution_count": 4,
   "id": "8a13dd9a",
   "metadata": {},
   "outputs": [
    {
     "data": {
      "text/plain": [
       "300"
      ]
     },
     "execution_count": 4,
     "metadata": {},
     "output_type": "execute_result"
    }
   ],
   "source": [
    "img.shape[1]"
   ]
  },
  {
   "cell_type": "code",
   "execution_count": 5,
   "id": "7fb63bef",
   "metadata": {},
   "outputs": [
    {
     "data": {
      "text/plain": [
       "-1"
      ]
     },
     "execution_count": 5,
     "metadata": {},
     "output_type": "execute_result"
    }
   ],
   "source": [
    "img[:] = 255, 0, 0          # b, g, r \n",
    "cv2.imshow('Image', img)\n",
    "cv2.waitKey()"
   ]
  },
  {
   "cell_type": "code",
   "execution_count": 6,
   "id": "84dad945",
   "metadata": {},
   "outputs": [
    {
     "data": {
      "text/plain": [
       "-1"
      ]
     },
     "execution_count": 6,
     "metadata": {},
     "output_type": "execute_result"
    }
   ],
   "source": [
    "img[0:img.shape[0]//2, :] = 0, 255, 0            # img[ht,wt] = b, g, r \n",
    "img[img.shape[0]//2:img.shape[0], :] = 0, 0, 255\n",
    "cv2.imshow('Image', img)\n",
    "cv2.waitKey()"
   ]
  },
  {
   "cell_type": "markdown",
   "id": "4274329d",
   "metadata": {},
   "source": [
    "## Line"
   ]
  },
  {
   "cell_type": "code",
   "execution_count": 8,
   "id": "2d0544ed",
   "metadata": {},
   "outputs": [
    {
     "data": {
      "text/plain": [
       "-1"
      ]
     },
     "execution_count": 8,
     "metadata": {},
     "output_type": "execute_result"
    }
   ],
   "source": [
    "cv2.line(img, (0,0), (img.shape[1], img.shape[0]//2), (0, 0, 255), 1)            # (img, st.pt., end.pt., color, thickness)\n",
    "cv2.line(img, (img.shape[1], img.shape[0]//2), (0,img.shape[0]), (0, 255, 0), 1)\n",
    "cv2.imshow('Image', img)\n",
    "cv2.waitKey()"
   ]
  },
  {
   "cell_type": "markdown",
   "id": "90b76810",
   "metadata": {},
   "source": [
    "## Rectangle"
   ]
  },
  {
   "cell_type": "code",
   "execution_count": 9,
   "id": "cf975d8a",
   "metadata": {},
   "outputs": [
    {
     "data": {
      "text/plain": [
       "-1"
      ]
     },
     "execution_count": 9,
     "metadata": {},
     "output_type": "execute_result"
    }
   ],
   "source": [
    "cv2.rectangle(img, (100, 100), (200,200), (255, 0, 0), 1)                 # (img, st. dig., end. dig., color, thickness)\n",
    "cv2.imshow('Image', img)\n",
    "cv2.waitKey()"
   ]
  },
  {
   "cell_type": "markdown",
   "id": "3fc24f99",
   "metadata": {},
   "source": [
    "## Circle"
   ]
  },
  {
   "cell_type": "code",
   "execution_count": 10,
   "id": "b5e15007",
   "metadata": {},
   "outputs": [
    {
     "data": {
      "text/plain": [
       "-1"
      ]
     },
     "execution_count": 10,
     "metadata": {},
     "output_type": "execute_result"
    }
   ],
   "source": [
    "cv2.circle(img, (150, 375), 50, (255, 0, 0), 1)                          # (img, centre, radius, color, thickness)\n",
    "cv2.imshow('Image', img)\n",
    "cv2.waitKey()"
   ]
  },
  {
   "cell_type": "markdown",
   "id": "18baed59",
   "metadata": {},
   "source": [
    "## Text"
   ]
  },
  {
   "cell_type": "code",
   "execution_count": 14,
   "id": "0db9cbd2",
   "metadata": {},
   "outputs": [
    {
     "data": {
      "text/plain": [
       "-1"
      ]
     },
     "execution_count": 14,
     "metadata": {},
     "output_type": "execute_result"
    }
   ],
   "source": [
    "cv2.putText(img, 'LOL', (50, 350), cv2.FONT_HERSHEY_COMPLEX, 3, (255, 255, 255), 5) #(img, txt, lcn, fnt, size, thickness)\n",
    "cv2.imshow('Image', img)\n",
    "cv2.waitKey()"
   ]
  },
  {
   "cell_type": "code",
   "execution_count": null,
   "id": "5f9c1f91",
   "metadata": {},
   "outputs": [],
   "source": []
  }
 ],
 "metadata": {
  "kernelspec": {
   "display_name": "Python 3",
   "language": "python",
   "name": "python3"
  },
  "language_info": {
   "codemirror_mode": {
    "name": "ipython",
    "version": 3
   },
   "file_extension": ".py",
   "mimetype": "text/x-python",
   "name": "python",
   "nbconvert_exporter": "python",
   "pygments_lexer": "ipython3",
   "version": "3.8.3"
  }
 },
 "nbformat": 4,
 "nbformat_minor": 5
}
