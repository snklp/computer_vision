{
 "cells": [
  {
   "cell_type": "code",
   "execution_count": 1,
   "id": "43197637",
   "metadata": {},
   "outputs": [],
   "source": [
    "import cv2"
   ]
  },
  {
   "cell_type": "code",
   "execution_count": 2,
   "id": "1f854d4c",
   "metadata": {},
   "outputs": [],
   "source": [
    "img = cv2.imread('cards.jpg')"
   ]
  },
  {
   "cell_type": "code",
   "execution_count": 4,
   "id": "7e65f905",
   "metadata": {},
   "outputs": [
    {
     "data": {
      "application/javascript": [
       "\n",
       "        if (window._pyforest_update_imports_cell) { window._pyforest_update_imports_cell('import numpy as np'); }\n",
       "    "
      ],
      "text/plain": [
       "<IPython.core.display.Javascript object>"
      ]
     },
     "metadata": {},
     "output_type": "display_data"
    }
   ],
   "source": [
    "pts1 = np.float32([[112,44], [210,66], [82,187], [181,209]]) # corner points of interested image region"
   ]
  },
  {
   "cell_type": "code",
   "execution_count": 11,
   "id": "8fe73256",
   "metadata": {},
   "outputs": [],
   "source": [
    "height, width = 300, 200                # height X width for the interested image perspective"
   ]
  },
  {
   "cell_type": "code",
   "execution_count": 12,
   "id": "5412c6f9",
   "metadata": {},
   "outputs": [
    {
     "data": {
      "application/javascript": [
       "\n",
       "        if (window._pyforest_update_imports_cell) { window._pyforest_update_imports_cell('import numpy as np'); }\n",
       "    "
      ],
      "text/plain": [
       "<IPython.core.display.Javascript object>"
      ]
     },
     "metadata": {},
     "output_type": "display_data"
    }
   ],
   "source": [
    "pts2 = np.float32([[0,0], [width,0], [0,height], [width,height]])  # corner points of interested image perspective "
   ]
  },
  {
   "cell_type": "code",
   "execution_count": 13,
   "id": "001fb0ad",
   "metadata": {},
   "outputs": [],
   "source": [
    "matrix = cv2.getPerspectiveTransform(pts1, pts2)    # fitting interested image region to the perspective size into matrix"
   ]
  },
  {
   "cell_type": "code",
   "execution_count": 14,
   "id": "9a11f088",
   "metadata": {},
   "outputs": [],
   "source": [
    "new_img = cv2.warpPerspective(img, matrix, (width, height))  "
   ]
  },
  {
   "cell_type": "code",
   "execution_count": 15,
   "id": "3c812993",
   "metadata": {},
   "outputs": [
    {
     "data": {
      "text/plain": [
       "-1"
      ]
     },
     "execution_count": 15,
     "metadata": {},
     "output_type": "execute_result"
    }
   ],
   "source": [
    "cv2.imshow('Image', img)\n",
    "cv2.waitKey()"
   ]
  },
  {
   "cell_type": "code",
   "execution_count": 16,
   "id": "5a20e0bb",
   "metadata": {},
   "outputs": [
    {
     "data": {
      "text/plain": [
       "-1"
      ]
     },
     "execution_count": 16,
     "metadata": {},
     "output_type": "execute_result"
    }
   ],
   "source": [
    "cv2.imshow('New Image', new_img)\n",
    "cv2.waitKey()"
   ]
  },
  {
   "cell_type": "code",
   "execution_count": null,
   "id": "423fe83c",
   "metadata": {},
   "outputs": [],
   "source": []
  }
 ],
 "metadata": {
  "kernelspec": {
   "display_name": "Python 3",
   "language": "python",
   "name": "python3"
  },
  "language_info": {
   "codemirror_mode": {
    "name": "ipython",
    "version": 3
   },
   "file_extension": ".py",
   "mimetype": "text/x-python",
   "name": "python",
   "nbconvert_exporter": "python",
   "pygments_lexer": "ipython3",
   "version": "3.8.3"
  }
 },
 "nbformat": 4,
 "nbformat_minor": 5
}
