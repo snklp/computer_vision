{
 "cells": [
  {
   "cell_type": "code",
   "execution_count": 1,
   "id": "018bf904",
   "metadata": {},
   "outputs": [],
   "source": [
    "import cv2\n",
    "import numpy as np"
   ]
  },
  {
   "cell_type": "code",
   "execution_count": 2,
   "id": "00d1da20",
   "metadata": {},
   "outputs": [],
   "source": [
    "img_1 = cv2.imread('nature.jpg')\n",
    "img_2 = cv2.imread('lambo.jpg')"
   ]
  },
  {
   "cell_type": "code",
   "execution_count": 3,
   "id": "02232aad",
   "metadata": {},
   "outputs": [
    {
     "data": {
      "text/plain": [
       "((194, 259, 3), (196, 257, 3))"
      ]
     },
     "execution_count": 3,
     "metadata": {},
     "output_type": "execute_result"
    }
   ],
   "source": [
    "img_1.shape, img_2.shape"
   ]
  },
  {
   "cell_type": "code",
   "execution_count": 4,
   "id": "142f1cee",
   "metadata": {},
   "outputs": [],
   "source": [
    "img_1_resized = cv2.resize(img_1, (257,194))\n",
    "img_2_resized = cv2.resize(img_2, (257,194))  # in order to stack height X width should be same"
   ]
  },
  {
   "cell_type": "code",
   "execution_count": 5,
   "id": "a7e6ddea",
   "metadata": {},
   "outputs": [],
   "source": [
    "img_hor = np.hstack((img_1_resized,img_2_resized))\n",
    "img_ver = np.vstack((img_1_resized,img_2_resized))  "
   ]
  },
  {
   "cell_type": "code",
   "execution_count": 16,
   "id": "b190b2bc",
   "metadata": {},
   "outputs": [
    {
     "data": {
      "text/plain": [
       "13"
      ]
     },
     "execution_count": 16,
     "metadata": {},
     "output_type": "execute_result"
    }
   ],
   "source": [
    "cv2.imshow('Horizontal', img_hor)\n",
    "cv2.waitKey(0)"
   ]
  },
  {
   "cell_type": "code",
   "execution_count": 6,
   "id": "6c8d3934",
   "metadata": {},
   "outputs": [
    {
     "data": {
      "text/plain": [
       "-1"
      ]
     },
     "execution_count": 6,
     "metadata": {},
     "output_type": "execute_result"
    }
   ],
   "source": [
    "cv2.imshow('Vertical', img_ver)\n",
    "cv2.waitKey(0)"
   ]
  },
  {
   "cell_type": "code",
   "execution_count": null,
   "id": "384fd2c4",
   "metadata": {},
   "outputs": [],
   "source": []
  }
 ],
 "metadata": {
  "kernelspec": {
   "display_name": "Python 3",
   "language": "python",
   "name": "python3"
  },
  "language_info": {
   "codemirror_mode": {
    "name": "ipython",
    "version": 3
   },
   "file_extension": ".py",
   "mimetype": "text/x-python",
   "name": "python",
   "nbconvert_exporter": "python",
   "pygments_lexer": "ipython3",
   "version": "3.8.3"
  }
 },
 "nbformat": 4,
 "nbformat_minor": 5
}
