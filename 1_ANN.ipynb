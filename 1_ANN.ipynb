{
  "nbformat": 4,
  "nbformat_minor": 0,
  "metadata": {
    "colab": {
      "name": "1. ANN.ipynb",
      "provenance": [],
      "mount_file_id": "1iyT0Nt5VjzLXPdptj2YKR4zIlyYGl4TN",
      "authorship_tag": "ABX9TyMPUSx2NU8W5CIg0vtnS6Dw",
      "include_colab_link": true
    },
    "kernelspec": {
      "name": "python3",
      "display_name": "Python 3"
    },
    "language_info": {
      "name": "python"
    }
  },
  "cells": [
    {
      "cell_type": "markdown",
      "metadata": {
        "id": "view-in-github",
        "colab_type": "text"
      },
      "source": [
        "<a href=\"https://colab.research.google.com/github/snklp/computer_vision/blob/master/1_ANN.ipynb\" target=\"_parent\"><img src=\"https://colab.research.google.com/assets/colab-badge.svg\" alt=\"Open In Colab\"/></a>"
      ]
    },
    {
      "cell_type": "code",
      "metadata": {
        "id": "NYYevihXFd4m"
      },
      "source": [
        "import torch \n",
        "import torch.nn as nn\n",
        "import torch.nn.functional as F\n",
        "import torchvision.datasets as datasets\n",
        "import torchvision.transforms as transforms\n",
        "from torch.utils.data import DataLoader\n",
        "import torch.optim as optim"
      ],
      "execution_count": 66,
      "outputs": []
    },
    {
      "cell_type": "code",
      "metadata": {
        "id": "-JxXx_OYFpzR"
      },
      "source": [
        "# creating a fully connected layer\n",
        "\n",
        "class ANN(nn.Module):\n",
        "  def __init__(self, ip_size, num_classes):\n",
        "    super().__init__()\n",
        "    self.fc1 = nn.Linear(ip_size, 50)\n",
        "    self.fc2 = nn.Linear(50, 50)\n",
        "    self.fc3 = nn.Linear(50, 50)\n",
        "    self.fc4 = nn.Linear(50, num_classes)\n",
        "\n",
        "  def forward(self, x):\n",
        "    x = F.relu(self.fc1(x))\n",
        "    x = F.relu(self.fc2(x))\n",
        "    x = F.relu(self.fc3(x))\n",
        "    x = self.fc4(x)\n",
        "    return F.log_softmax(x, dim=1)\n",
        "\n",
        "# model = ANN(784, 10)\n",
        "# x = torch.randn(64, 784)      ## 64 egs each of size 784\n",
        "# model(x).shape will be 64,10  ## 64 egs each corresponding to 10 values"
      ],
      "execution_count": 67,
      "outputs": []
    },
    {
      "cell_type": "code",
      "metadata": {
        "id": "Pxl2tjNdIy6E"
      },
      "source": [
        "# setting up device\n",
        "\n",
        "device = torch.device('cuda' if torch.cuda.is_available() else 'cpu')"
      ],
      "execution_count": 68,
      "outputs": []
    },
    {
      "cell_type": "code",
      "metadata": {
        "id": "ulU43DH6JMWP"
      },
      "source": [
        "# Parameters\n",
        "ip_size = 28*28\n",
        "num_classes = 10\n",
        "\n",
        "#Hyperparameters\n",
        "lr = 0.001\n",
        "batch_size = 64\n",
        "num_epochs = 3"
      ],
      "execution_count": 69,
      "outputs": []
    },
    {
      "cell_type": "code",
      "metadata": {
        "id": "xWCbWYqKJvJY"
      },
      "source": [
        "# Downloading Data\n",
        "train_mnist = datasets.MNIST(root='/content/drive/MyDrive/Datasets', train=True, transform=transforms.ToTensor(), download=True)\n",
        "test_mnist = datasets.MNIST(root='/content/drive/MyDrive/Datasets', train=False, transform=transforms.ToTensor(), download=True)\n",
        "\n",
        "# Loading Data\n",
        "train = DataLoader(dataset=train_mnist, batch_size=batch_size, shuffle=True)\n",
        "test = DataLoader(dataset=test_mnist, batch_size=batch_size, shuffle=True)"
      ],
      "execution_count": 70,
      "outputs": []
    },
    {
      "cell_type": "code",
      "metadata": {
        "id": "4lFG5z22NuzX"
      },
      "source": [
        "# Initialising Network\n",
        "\n",
        "model = ANN(ip_size=ip_size, num_classes=num_classes).to(device)"
      ],
      "execution_count": 71,
      "outputs": []
    },
    {
      "cell_type": "code",
      "metadata": {
        "colab": {
          "base_uri": "https://localhost:8080/"
        },
        "id": "XUFiS8whQP0M",
        "outputId": "9a59f98b-f139-41f8-f8cf-d2dbd6049184"
      },
      "source": [
        "# Training Network\n",
        "\n",
        "for epoch in range(num_epochs):\n",
        "  for data in train:\n",
        "    X, y = data\n",
        "    X = X.to(device=device)\n",
        "    y = y.to(device=device)\n",
        "\n",
        "    print(X.shape)\n",
        "    print(y.shape)\n",
        "    break"
      ],
      "execution_count": 72,
      "outputs": [
        {
          "output_type": "stream",
          "text": [
            "torch.Size([64, 1, 28, 28])\n",
            "torch.Size([64])\n",
            "torch.Size([64, 1, 28, 28])\n",
            "torch.Size([64])\n",
            "torch.Size([64, 1, 28, 28])\n",
            "torch.Size([64])\n"
          ],
          "name": "stdout"
        }
      ]
    },
    {
      "cell_type": "code",
      "metadata": {
        "id": "JF36rKkdVIvC"
      },
      "source": [
        ""
      ],
      "execution_count": 72,
      "outputs": []
    },
    {
      "cell_type": "markdown",
      "metadata": {
        "id": "UkxckJOOTNdo"
      },
      "source": [
        "> **X.shape = (#egs in a batch, (#channels, height, width))**                \n",
        "Hence we want **(1, 28, 28)** to be flattened to **784**                   \n",
        "Also since **y** is a **scalar** value Hence we'll use **nll_loss**                  \n",
        "(if it would be **one hot vector** then we would have used **mean sq. error** loss function)"
      ]
    },
    {
      "cell_type": "code",
      "metadata": {
        "id": "3mvfk7WPfvcn"
      },
      "source": [
        ""
      ],
      "execution_count": 72,
      "outputs": []
    },
    {
      "cell_type": "code",
      "metadata": {
        "colab": {
          "base_uri": "https://localhost:8080/"
        },
        "id": "SEBL9vGgR-am",
        "outputId": "c8758d78-6b8d-4650-e4de-5100ee6e3e20"
      },
      "source": [
        "# Training Network on Train Data\n",
        "\n",
        "optimizer = optim.Adam(model.parameters(), lr=0.001)  # model.parameters -> changable things about model \n",
        "\n",
        "for epoch in range(num_epochs):\n",
        "  for data in train:\n",
        "    X, y = data\n",
        "    X = X.to(device=device)\n",
        "    y = y.to(device=device)\n",
        "    model.zero_grad()\n",
        "    # shape correction according to model\n",
        "    X = X.reshape(-1, 28*28)\n",
        "\n",
        "    # forward\n",
        "    output = model(X)\n",
        "    loss = F.nll_loss(output, y)\n",
        "    loss.backward()    # backpropogating loss\n",
        "    optimizer.step()   # adjusts weights \n",
        "    \n",
        "  print(loss)\n"
      ],
      "execution_count": 73,
      "outputs": [
        {
          "output_type": "stream",
          "text": [
            "tensor(0.1350, grad_fn=<NllLossBackward>)\n",
            "tensor(0.2337, grad_fn=<NllLossBackward>)\n",
            "tensor(0.0374, grad_fn=<NllLossBackward>)\n"
          ],
          "name": "stdout"
        }
      ]
    },
    {
      "cell_type": "code",
      "metadata": {
        "colab": {
          "base_uri": "https://localhost:8080/"
        },
        "id": "OJZEYEUrXYL6",
        "outputId": "bfe915b1-7253-4d25-ce12-d3cdffb75142"
      },
      "source": [
        "# Testing Accuracy on Test Data\n",
        "\n",
        "num_correct = 0\n",
        "num_samples = 0\n",
        "\n",
        "with torch.no_grad():\n",
        "  for data in test:\n",
        "    X, y = data\n",
        "    X = X.to(device=device)\n",
        "    y = y.to(device=device)\n",
        "    X = X.reshape(X.shape[0], -1)\n",
        "    output = model(X)\n",
        "    for idx, i in enumerate(output):\n",
        "      if torch.argmax(i) == y[idx]:num_correct += 1\n",
        "      num_samples += 1\n",
        "\n",
        "print('Accuracy:',round(num_correct/num_samples, 3))"
      ],
      "execution_count": 74,
      "outputs": [
        {
          "output_type": "stream",
          "text": [
            "Accuracy: 0.963\n"
          ],
          "name": "stdout"
        }
      ]
    },
    {
      "cell_type": "code",
      "metadata": {
        "id": "AVWYzAEopb70"
      },
      "source": [
        ""
      ],
      "execution_count": 74,
      "outputs": []
    }
  ]
}