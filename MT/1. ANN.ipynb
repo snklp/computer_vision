{
  "nbformat": 4,
  "nbformat_minor": 5,
  "metadata": {
    "kernelspec": {
      "display_name": "Python 3",
      "language": "python",
      "name": "python3"
    },
    "language_info": {
      "codemirror_mode": {
        "name": "ipython",
        "version": 3
      },
      "file_extension": ".py",
      "mimetype": "text/x-python",
      "name": "python",
      "nbconvert_exporter": "python",
      "pygments_lexer": "ipython3",
      "version": "3.8.3"
    },
    "colab": {
      "name": "1. ANN.ipynb",
      "provenance": []
    }
  },
  "cells": [
    {
      "cell_type": "code",
      "metadata": {
        "id": "531715f7"
      },
      "source": [
        "import torch\n",
        "import torch.nn\n",
        "import torch.nn.functional as F"
      ],
      "id": "531715f7",
      "execution_count": 1,
      "outputs": []
    },
    {
      "cell_type": "code",
      "metadata": {
        "id": "A7xdXjaUCEaO"
      },
      "source": [
        ""
      ],
      "id": "A7xdXjaUCEaO",
      "execution_count": null,
      "outputs": []
    }
  ]
}