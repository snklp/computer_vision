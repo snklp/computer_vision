{
 "cells": [
  {
   "cell_type": "code",
   "execution_count": 2,
   "metadata": {},
   "outputs": [],
   "source": [
    "import torch\r\n",
    "import torch.nn as nn"
   ]
  },
  {
   "cell_type": "code",
   "execution_count": 3,
   "metadata": {},
   "outputs": [],
   "source": [
    "class Discriminator(nn.Module):\r\n",
    "    def __init__(self, img_channels, hidden_channels):\r\n",
    "        self().__init__()\r\n",
    "        self.disc = nn.Sequential(\r\n",
    "            # ip -> egXchannelsX64X64\r\n",
    "            nn.Conv2d(img_channels, hidden_channels, kernel_size=4, stride=2, padding=1),   # 32X32\r\n",
    "            nn.LeakyReLU(0.1),\r\n",
    "            self.conv_block(hidden_channels, hidden_channels*2, 4, 2, 1),       # 16X16\r\n",
    "            self.conv_block(hidden_channels*2, hidden_channels*4, 4, 2, 1),     # 8X8\r\n",
    "            self.conv_block(hidden_channels*4, hidden_channels*8, 4, 2, 1),    # 4X4\r\n",
    "            nn.Conv2d(hidden_channels*8, kernel_size=4, stride=2, padding=0))\r\n",
    "\r\n",
    "\r\n",
    "    def conv_block(self, in_channels, out_channels, kernel_size, stride, padding):\r\n",
    "        return nn.Sequential(\r\n",
    "            nn.Conv2d(in_channels, out_channels, kernel_size, stride, padding, bias=False),\r\n",
    "            nn.BatchNorm2d(out_channels),\r\n",
    "            nn.LeakyReLU(0.2))\r\n",
    "\r\n",
    "    def forward(self, x):\r\n",
    "        return self.disc(x)"
   ]
  },
  {
   "cell_type": "code",
   "execution_count": null,
   "metadata": {},
   "outputs": [],
   "source": []
  }
 ],
 "metadata": {
  "interpreter": {
   "hash": "cc510d182ecf5f0e1c7f1e8d192e2ecc4362ebc4cf4e9913f2325945fc59d1a1"
  },
  "kernelspec": {
   "display_name": "Python 3.8.3 64-bit ('base': conda)",
   "name": "python3"
  },
  "language_info": {
   "codemirror_mode": {
    "name": "ipython",
    "version": 3
   },
   "file_extension": ".py",
   "mimetype": "text/x-python",
   "name": "python",
   "nbconvert_exporter": "python",
   "pygments_lexer": "ipython3",
   "version": "3.8.3"
  }
 },
 "nbformat": 4,
 "nbformat_minor": 5
}