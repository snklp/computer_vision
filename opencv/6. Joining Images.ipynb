{
 "cells": [
  {
   "cell_type": "code",
   "execution_count": 1,
   "id": "cc773d31",
   "metadata": {},
   "outputs": [],
   "source": [
    "import cv2\n",
    "import numpy as np"
   ]
  },
  {
   "cell_type": "code",
   "execution_count": 2,
   "id": "806206f9",
   "metadata": {},
   "outputs": [],
   "source": [
    "img_1 = cv2.imread('nature.jpg')\n",
    "img_2 = cv2.imread('lambo.jpg')"
   ]
  },
  {
   "cell_type": "code",
   "execution_count": 3,
   "id": "5dfedbbf",
   "metadata": {},
   "outputs": [
    {
     "data": {
      "text/plain": [
       "((194, 259, 3), (196, 257, 3))"
      ]
     },
     "execution_count": 3,
     "metadata": {},
     "output_type": "execute_result"
    }
   ],
   "source": [
    "img_1.shape, img_2.shape"
   ]
  },
  {
   "cell_type": "code",
   "execution_count": 4,
   "id": "c10e1fcc",
   "metadata": {},
   "outputs": [],
   "source": [
    "img_1_resized = cv2.resize(img_1, (257,194))\n",
    "img_2_resized = cv2.resize(img_2, (257,194))  # in order to stack height X width should be same"
   ]
  },
  {
   "cell_type": "code",
   "execution_count": 5,
   "id": "03b0d790",
   "metadata": {},
   "outputs": [],
   "source": [
    "img_hor = np.hstack((img_1_resized,img_2_resized))\n",
    "img_ver = np.vstack((img_1_resized,img_2_resized))  "
   ]
  },
  {
   "cell_type": "code",
   "execution_count": 16,
   "id": "97a4df1e",
   "metadata": {},
   "outputs": [
    {
     "data": {
      "text/plain": [
       "13"
      ]
     },
     "execution_count": 16,
     "metadata": {},
     "output_type": "execute_result"
    }
   ],
   "source": [
    "cv2.imshow('Horizontal', img_hor)\n",
    "cv2.waitKey(0)"
   ]
  },
  {
   "cell_type": "code",
   "execution_count": null,
   "id": "708151f6",
   "metadata": {},
   "outputs": [],
   "source": [
    "cv2.imshow('Vertical', img_ver)\n",
    "cv2.waitKey(0)"
   ]
  },
  {
   "cell_type": "code",
   "execution_count": null,
   "id": "04db5f83",
   "metadata": {},
   "outputs": [],
   "source": []
  }
 ],
 "metadata": {
  "kernelspec": {
   "display_name": "Python 3",
   "language": "python",
   "name": "python3"
  },
  "language_info": {
   "codemirror_mode": {
    "name": "ipython",
    "version": 3
   },
   "file_extension": ".py",
   "mimetype": "text/x-python",
   "name": "python",
   "nbconvert_exporter": "python",
   "pygments_lexer": "ipython3",
   "version": "3.8.3"
  }
 },
 "nbformat": 4,
 "nbformat_minor": 5
}
