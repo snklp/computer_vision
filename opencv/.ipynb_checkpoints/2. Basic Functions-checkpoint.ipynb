{
 "cells": [
  {
   "cell_type": "code",
   "execution_count": 11,
   "id": "a01ba188",
   "metadata": {},
   "outputs": [],
   "source": [
    "import cv2\n",
    "import numpy"
   ]
  },
  {
   "cell_type": "code",
   "execution_count": 25,
   "id": "657d9782",
   "metadata": {},
   "outputs": [
    {
     "data": {
      "application/javascript": [
       "\n",
       "        if (window._pyforest_update_imports_cell) { window._pyforest_update_imports_cell('import numpy as np'); }\n",
       "    "
      ],
      "text/plain": [
       "<IPython.core.display.Javascript object>"
      ]
     },
     "metadata": {},
     "output_type": "display_data"
    },
    {
     "data": {
      "application/javascript": [
       "\n",
       "        if (window._pyforest_update_imports_cell) { window._pyforest_update_imports_cell('import numpy as np'); }\n",
       "    "
      ],
      "text/plain": [
       "<IPython.core.display.Javascript object>"
      ]
     },
     "metadata": {},
     "output_type": "display_data"
    }
   ],
   "source": [
    "img = cv2.imread('nature.jpg')\n",
    "kernel = np.ones((2,2), np.uint8)"
   ]
  },
  {
   "cell_type": "markdown",
   "id": "fd1c39fe",
   "metadata": {},
   "source": [
    "## Gray Image"
   ]
  },
  {
   "cell_type": "code",
   "execution_count": 4,
   "id": "3f100f12",
   "metadata": {},
   "outputs": [
    {
     "data": {
      "text/plain": [
       "-1"
      ]
     },
     "execution_count": 4,
     "metadata": {},
     "output_type": "execute_result"
    }
   ],
   "source": [
    "img_gray = cv2.cvtColor(img, cv2.COLOR_BGR2GRAY)\n",
    "cv2.imshow('Gray Image', img_gray)\n",
    "cv2.waitKey(0)"
   ]
  },
  {
   "cell_type": "markdown",
   "id": "f2ee9c60",
   "metadata": {},
   "source": [
    "## Blur Image"
   ]
  },
  {
   "cell_type": "code",
   "execution_count": 7,
   "id": "e22beecf",
   "metadata": {},
   "outputs": [
    {
     "data": {
      "text/plain": [
       "-1"
      ]
     },
     "execution_count": 7,
     "metadata": {},
     "output_type": "execute_result"
    }
   ],
   "source": [
    "img_blur = cv2.GaussianBlur(img_gray, (7,7), 0)  # (7,7) -> ksize\n",
    "cv2.imshow('Blur Image', img_blur)\n",
    "cv2.waitKey(0)"
   ]
  },
  {
   "cell_type": "markdown",
   "id": "73fab057",
   "metadata": {},
   "source": [
    "## Canny Image"
   ]
  },
  {
   "cell_type": "code",
   "execution_count": 10,
   "id": "bfc97738",
   "metadata": {},
   "outputs": [
    {
     "data": {
      "text/plain": [
       "-1"
      ]
     },
     "execution_count": 10,
     "metadata": {},
     "output_type": "execute_result"
    }
   ],
   "source": [
    "img_canny = cv2.Canny(img, 100, 100)  # 100, 100 -> thresholds\n",
    "cv2.imshow('Canny Image', img_canny)\n",
    "cv2.waitKey(0)"
   ]
  },
  {
   "cell_type": "markdown",
   "id": "76b9c025",
   "metadata": {},
   "source": [
    "## Dilated Image"
   ]
  },
  {
   "cell_type": "code",
   "execution_count": 26,
   "id": "14531f39",
   "metadata": {},
   "outputs": [
    {
     "data": {
      "text/plain": [
       "-1"
      ]
     },
     "execution_count": 26,
     "metadata": {},
     "output_type": "execute_result"
    }
   ],
   "source": [
    "img_dilated = cv2.dilate(img_canny, kernel, iterations=1)  \n",
    "cv2.imshow('Dilation Image', img_dilated)\n",
    "cv2.waitKey(0)"
   ]
  },
  {
   "cell_type": "markdown",
   "id": "915b54d1",
   "metadata": {},
   "source": [
    "## Eroded Image"
   ]
  },
  {
   "cell_type": "code",
   "execution_count": 27,
   "id": "3d8b24f4",
   "metadata": {},
   "outputs": [
    {
     "data": {
      "text/plain": [
       "-1"
      ]
     },
     "execution_count": 27,
     "metadata": {},
     "output_type": "execute_result"
    }
   ],
   "source": [
    "img_eroded = cv2.erode(img_dilated, kernel, iterations=1)\n",
    "cv2.imshow('Eroded Image', img_eroded)\n",
    "cv2.waitKey(0)"
   ]
  }
 ],
 "metadata": {
  "kernelspec": {
   "display_name": "Python 3",
   "language": "python",
   "name": "python3"
  },
  "language_info": {
   "codemirror_mode": {
    "name": "ipython",
    "version": 3
   },
   "file_extension": ".py",
   "mimetype": "text/x-python",
   "name": "python",
   "nbconvert_exporter": "python",
   "pygments_lexer": "ipython3",
   "version": "3.8.3"
  }
 },
 "nbformat": 4,
 "nbformat_minor": 5
}
