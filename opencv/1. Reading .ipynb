{
 "cells": [
  {
   "cell_type": "code",
   "execution_count": 1,
   "id": "59efbda8",
   "metadata": {},
   "outputs": [],
   "source": [
    "import cv2"
   ]
  },
  {
   "cell_type": "markdown",
   "id": "48f7f132",
   "metadata": {},
   "source": [
    "## Image"
   ]
  },
  {
   "cell_type": "code",
   "execution_count": 2,
   "id": "20fa0c98",
   "metadata": {},
   "outputs": [
    {
     "data": {
      "text/plain": [
       "-1"
      ]
     },
     "execution_count": 2,
     "metadata": {},
     "output_type": "execute_result"
    }
   ],
   "source": [
    "img = cv2.imread('nature.jpg')\n",
    "cv2.imshow('Image', img)\n",
    "cv2.waitKey(0)"
   ]
  },
  {
   "cell_type": "markdown",
   "id": "6ad18189",
   "metadata": {},
   "source": [
    "## Video"
   ]
  },
  {
   "cell_type": "code",
   "execution_count": 8,
   "id": "3c6157af",
   "metadata": {},
   "outputs": [],
   "source": [
    "capt = cv2.VideoCapture('earth.mp4')\n",
    "while True:\n",
    "    success, img = capt.read()\n",
    "    cv2.imshow('Video', img)\n",
    "    if cv2.waitKey(1) & 0xFF == ord('q'):break"
   ]
  },
  {
   "cell_type": "markdown",
   "id": "8a15c3c0",
   "metadata": {},
   "source": [
    "## Webcam"
   ]
  },
  {
   "cell_type": "code",
   "execution_count": 3,
   "id": "0a8a0043",
   "metadata": {},
   "outputs": [],
   "source": [
    "capt = cv2.VideoCapture(0)\n",
    "capt.set(3,640)\n",
    "capt.set(4,480)\n",
    "\n",
    "while True:\n",
    "    success, img = capt.read()\n",
    "    cv2.imshow('Video', img)\n",
    "    if cv2.waitKey(1) & 0xFF == ord('q'):break"
   ]
  },
  {
   "cell_type": "code",
   "execution_count": null,
   "id": "b4d9891b",
   "metadata": {},
   "outputs": [],
   "source": []
  }
 ],
 "metadata": {
  "kernelspec": {
   "display_name": "Python 3",
   "language": "python",
   "name": "python3"
  },
  "language_info": {
   "codemirror_mode": {
    "name": "ipython",
    "version": 3
   },
   "file_extension": ".py",
   "mimetype": "text/x-python",
   "name": "python",
   "nbconvert_exporter": "python",
   "pygments_lexer": "ipython3",
   "version": "3.8.3"
  }
 },
 "nbformat": 4,
 "nbformat_minor": 5
}
